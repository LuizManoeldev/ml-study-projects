{
 "cells": [
  {
   "cell_type": "markdown",
   "metadata": {},
   "source": [
    "# Carregamento da base de dados"
   ]
  },
  {
   "cell_type": "code",
   "execution_count": null,
   "metadata": {},
   "outputs": [],
   "source": [
    "# Carregamento da base de dados\n",
    "import pandas as pd\n",
    "import matplotlib.pyplot as plt # Geração de gráficos\n",
    "import seaborn as sns # Geração de gráficos\n",
    "import numpy as np\n",
    "\n",
    "# Carregamento\n",
    "casas_file = pd.read_csv('./csv-files/house_prices.csv')\n",
    "\n",
    "# Selecionando apenas colunas com valores numéricos\n",
    "base_casas = casas_file.select_dtypes(include=[float, int])"
   ]
  },
  {
   "cell_type": "markdown",
   "metadata": {},
   "source": [
    "## Valores Nulos"
   ]
  },
  {
   "cell_type": "code",
   "execution_count": null,
   "metadata": {},
   "outputs": [],
   "source": [
    "#False - Nao possui valores nulors / True - Possue algum valor nulo\n",
    "base_casas.isnull()\n",
    "base_casas.isnull().sum() # Numero de valores nulos de cada coluna"
   ]
  },
  {
   "cell_type": "markdown",
   "metadata": {},
   "source": []
  },
  {
   "cell_type": "markdown",
   "metadata": {},
   "source": [
    "# Visualização com Gráficos"
   ]
  },
  {
   "cell_type": "code",
   "execution_count": null,
   "metadata": {},
   "outputs": [],
   "source": [
    "figura = plt.figure(figsize=(20,20))\n",
    "sns.heatmap(base_casas.corr(), annot= True)"
   ]
  },
  {
   "cell_type": "markdown",
   "metadata": {},
   "source": [
    "# Pré Processamento"
   ]
  },
  {
   "cell_type": "code",
   "execution_count": null,
   "metadata": {},
   "outputs": [],
   "source": [
    "base_casas.columns"
   ]
  },
  {
   "cell_type": "code",
   "execution_count": null,
   "metadata": {},
   "outputs": [],
   "source": [
    "# da coluna Bedrooms até Long - .values para transformar no formato do numpy\n",
    "X = base_casas.iloc[:, 2:18].values\n",
    "X[0]"
   ]
  },
  {
   "cell_type": "code",
   "execution_count": null,
   "metadata": {},
   "outputs": [],
   "source": [
    "Y = base_casas.iloc[:, 1]"
   ]
  },
  {
   "cell_type": "markdown",
   "metadata": {},
   "source": [
    "Dados estao no formato de vetor, mas é necessario mandar para AWS em formato de matriz. Necessarior realizar a conversao "
   ]
  },
  {
   "cell_type": "code",
   "execution_count": null,
   "metadata": {},
   "outputs": [],
   "source": [
    "X = np.array(X).astype('float32')\n",
    "Y = np.array(Y).astype('float32')"
   ]
  },
  {
   "cell_type": "markdown",
   "metadata": {},
   "source": [
    "Divisao entre: Porção de treinamento x Porção de testagem "
   ]
  },
  {
   "cell_type": "code",
   "execution_count": null,
   "metadata": {},
   "outputs": [],
   "source": [
    "from sklearn.model_selection import train_test_split\n",
    "# Teste = 30% - Treinamento = 70%\n",
    "X_treinamento, X_teste, Y_treinamento, Y_teste = train_test_split(X, Y, test_size=0.3, random_state=0)"
   ]
  },
  {
   "cell_type": "code",
   "execution_count": null,
   "metadata": {},
   "outputs": [],
   "source": [
    "X_treinamento.shape, X_teste.shape, Y_treinamento.shape, Y_teste.shape"
   ]
  },
  {
   "cell_type": "markdown",
   "metadata": {},
   "source": [
    "# Configurações SageMaker"
   ]
  },
  {
   "cell_type": "code",
   "execution_count": null,
   "metadata": {},
   "outputs": [],
   "source": [
    "import sagemaker\n",
    "import boto3\n",
    "from sagemaker import Session\n",
    "\n",
    "session = sagemaker.Session() # Iniciando session\n",
    "\n",
    "bucket = 'sagemaker-curso-bucket' # Bucket S3\n",
    "subpasta_modelo = 'modelos/house-prices/linear-learner'\n",
    "subpasta_dataset = 'datasets/house-prices'\n"
   ]
  },
  {
   "cell_type": "code",
   "execution_count": null,
   "metadata": {},
   "outputs": [],
   "source": [
    "# Ao criar o ambiente no sagemaker, criamos essas regras\n",
    "role = sagemaker.get_execution_role()\n",
    "print(role)"
   ]
  },
  {
   "cell_type": "code",
   "execution_count": null,
   "metadata": {},
   "outputs": [],
   "source": [
    "import io\n",
    "import sagemaker.amazon.common as smac # sagemaker commom library\n",
    "\n",
    "\n",
    "\n",
    "buffer = io.BytesIO()\n",
    "smac.write_numpy_to_dense_tensor(buffer, X_treinamento, Y_treinamento) # convertendo numpy to aws format\n",
    "buffer.seek(0)"
   ]
  },
  {
   "cell_type": "markdown",
   "metadata": {},
   "source": [
    "Upload para o Bucket S3"
   ]
  },
  {
   "cell_type": "code",
   "execution_count": null,
   "metadata": {},
   "outputs": [],
   "source": [
    "import os\n",
    "key = 'houses-train-data'\n",
    "\n",
    "## os path faz a concatenação do caminho\n",
    "boto3.resource('s3').Bucket(bucket).Object(os.path.join(subpasta_dataset, 'train', key)).upload_fileobj(buffer)"
   ]
  },
  {
   "cell_type": "code",
   "execution_count": null,
   "metadata": {},
   "outputs": [],
   "source": [
    "s3_train_data = 's3://{}/{}/train/{}'.format(bucket, subpasta_dataset, key)\n",
    "print('Localização da base de treinamento: {}'.format(s3_train_data))"
   ]
  },
  {
   "cell_type": "code",
   "execution_count": null,
   "metadata": {},
   "outputs": [],
   "source": [
    "# onde salvar o modelo depois de treinado\n",
    "output_location = 's3://{}/{}/output'.format(bucket, subpasta_modelo)\n",
    "print('Modelo será salvo em: {}'.format(output_location))"
   ]
  },
  {
   "cell_type": "markdown",
   "metadata": {},
   "source": [
    "# Criação e treinamento do Linear Learner"
   ]
  },
  {
   "cell_type": "code",
   "execution_count": null,
   "metadata": {},
   "outputs": [],
   "source": [
    "import sagemaker.image_uris\n",
    "\n",
    "\n",
    "container = sagemaker.image_uris.retrieve(framework='linear-learner', region=boto3.Session().region_name)\n"
   ]
  },
  {
   "cell_type": "code",
   "execution_count": null,
   "metadata": {},
   "outputs": [],
   "source": [
    "linear = sagemaker.estimator.Estimator(image_uri=container,\n",
    "                                       role = \"AmazonSageMaker-ExecutionRole-20240702T173175\",\n",
    "                                       instance_count= 1,\n",
    "                                       instance_type='ml.m4.xlarge',\n",
    "                                       output_path= output_location,\n",
    "                                       sagemaker_session= session\n",
    "                                    )"
   ]
  },
  {
   "cell_type": "code",
   "execution_count": null,
   "metadata": {},
   "outputs": [],
   "source": [
    "# Feature_dim = Numero de parametros\n",
    "# Num_models = Numeros de modelos a serem treinados. O melhor será escolhido ao final\n",
    "linear.set_hyperparameters(feature_dim = 16,\n",
    "                           predictor_type = 'regressor',\n",
    "                           num_models = 16\n",
    "                           )"
   ]
  },
  {
   "cell_type": "code",
   "execution_count": null,
   "metadata": {},
   "outputs": [],
   "source": [
    "# Localização da base de dados de treinamento\n",
    "linear.fit({'train': s3_train_data})"
   ]
  },
  {
   "cell_type": "markdown",
   "metadata": {},
   "source": [
    "# Deploy, Previsões e avaliação"
   ]
  },
  {
   "cell_type": "code",
   "execution_count": null,
   "metadata": {},
   "outputs": [],
   "source": [
    "linear_regresssor = linear.deploy(initial_instance_count=1,\n",
    "                                  instance_type='ml.m4.xlarge'\n",
    "                                  )"
   ]
  },
  {
   "cell_type": "markdown",
   "metadata": {},
   "source": [
    "-> Recomendação de não utilizar SageMaker Endpoints devido ao custo."
   ]
  },
  {
   "cell_type": "markdown",
   "metadata": {},
   "source": [
    "## Previsões (apenas código, sem deploy real no sageMaker)"
   ]
  },
  {
   "cell_type": "code",
   "execution_count": null,
   "metadata": {},
   "outputs": [],
   "source": [
    "from sagemaker.serializers import CSVSerializer # Formato de dados que o modelo recebe como parametro \n",
    "from sagemaker.deserializers import JSONDeserializer\n",
    "\n",
    "linear_regresssor.serializer = CSVSerializer()\n",
    "linear_regresssor.deserializer = JSONDeserializer()"
   ]
  },
  {
   "cell_type": "code",
   "execution_count": null,
   "metadata": {},
   "outputs": [],
   "source": [
    "results = linear_regresssor.predict(X_teste)\n",
    "results"
   ]
  },
  {
   "cell_type": "code",
   "execution_count": null,
   "metadata": {},
   "outputs": [],
   "source": [
    "previsoes = np.array([r ['score'] for r in results ['predictions']])\n",
    "previsoes\n",
    "previsoes.shape, X_teste.shape"
   ]
  },
  {
   "cell_type": "code",
   "execution_count": null,
   "metadata": {},
   "outputs": [],
   "source": [
    "from sklearn.metrics import mean_absolute_error, mean_squared_error\n",
    "mae = mean_absolute_error(Y_teste, previsoes)\n",
    "mse = mean_squared_error(Y_teste, previsoes)\n",
    "print(\"MAE =\", mae, \"\\MSE = \", mse)"
   ]
  }
 ],
 "metadata": {
  "kernelspec": {
   "display_name": "ml-test",
   "language": "python",
   "name": "python3"
  },
  "language_info": {
   "codemirror_mode": {
    "name": "ipython",
    "version": 3
   },
   "file_extension": ".py",
   "mimetype": "text/x-python",
   "name": "python",
   "nbconvert_exporter": "python",
   "pygments_lexer": "ipython3",
   "version": "3.10.12"
  }
 },
 "nbformat": 4,
 "nbformat_minor": 2
}
