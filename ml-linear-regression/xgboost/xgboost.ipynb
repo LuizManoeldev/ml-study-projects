{
 "cells": [
  {
   "cell_type": "markdown",
   "metadata": {},
   "source": [
    "# Tratamento da base de dados"
   ]
  },
  {
   "cell_type": "code",
   "execution_count": null,
   "metadata": {},
   "outputs": [],
   "source": [
    "import pandas as pd\n",
    "import numpy as np\n",
    "base_casas = pd.read_csv('../csv-files/house_prices.csv')\n",
    "base_casas"
   ]
  },
  {
   "cell_type": "code",
   "execution_count": null,
   "metadata": {},
   "outputs": [],
   "source": [
    "base_casas.drop(columns=['id', 'date', 'sqft_living15', 'sqft_lot15'], axis=1, inplace=True)\n",
    "base_casas"
   ]
  },
  {
   "cell_type": "code",
   "execution_count": null,
   "metadata": {},
   "outputs": [],
   "source": [
    "# Dividindo os dados diretamente no pandas - Treinamento\n",
    "base_treinamento = base_casas.iloc[0:15129,:]\n",
    "base_treinamento.shape"
   ]
  },
  {
   "cell_type": "code",
   "execution_count": null,
   "metadata": {},
   "outputs": [],
   "source": [
    "# Dividindo os dados diretamente no pandas - Teste\n",
    "base_teste = base_casas.iloc[15129:, :]\n",
    "base_teste.shape"
   ]
  },
  {
   "cell_type": "markdown",
   "metadata": {},
   "source": [
    "Dados para treinamento são enviado no formato CSV Serializer\n",
    "Dados para teste são enviados no formato numpy"
   ]
  },
  {
   "cell_type": "code",
   "execution_count": null,
   "metadata": {},
   "outputs": [],
   "source": [
    "# Todos: da 1 a 17 . values (converte para p numpy)\n",
    "X_teste = base_teste.iloc[:, 1:17].values\n",
    "X_teste"
   ]
  },
  {
   "cell_type": "code",
   "execution_count": null,
   "metadata": {},
   "outputs": [],
   "source": [
    "Y_teste = base_teste.iloc[:, 0].values\n",
    "Y_teste"
   ]
  },
  {
   "cell_type": "markdown",
   "metadata": {},
   "source": [
    "Transformando a base de treinamento para CSV"
   ]
  },
  {
   "cell_type": "code",
   "execution_count": null,
   "metadata": {},
   "outputs": [],
   "source": [
    "# Necessario remover a coluna de Headers e os indices\n",
    "# NECESSARIO QUE A COLUNA ALVO SEJA A PRIMEIRA\n",
    "base_treinamento.to_csv('house_prices_train_xgboost.csv', header = False, index = False)\n",
    "base_teste.to_csv('house_prices_test_xgboost.csv', header = False, index = False)"
   ]
  },
  {
   "cell_type": "markdown",
   "metadata": {},
   "source": [
    "# Configuração SageMaker"
   ]
  },
  {
   "cell_type": "code",
   "execution_count": null,
   "metadata": {},
   "outputs": [],
   "source": [
    "import boto3\n",
    "import sagemaker\n",
    "from sagemaker import Session\n",
    "\n",
    "session = sagemaker.Session() # Iniciando session\n",
    "\n",
    "bucket = 'sagemaker-curso-bucket' # Bucket S3\n",
    "subpasta_modelo = 'modelos/house-prices/xgboost'\n",
    "subpasta_dataset = 'datasets/house-prices'\n",
    "\n",
    "key_train = 'house-train-data-xgboost'\n",
    "key_test = 'house-test-data-xgboost'\n",
    "\n",
    "role = \"AmazonSageMaker-ExecutionRole-20240702T173175\"\n",
    "\n",
    "s3_train_data = 's3://{}/{}/train/{}'.format(bucket, subpasta_dataset, key_train)\n",
    "s3_test_data = 's3://{}/{}/test/{}'.format(bucket, subpasta_dataset, key_test)\n",
    "\n",
    "output_location = 's3://{}/{}/output'.format(bucket, subpasta_modelo)\n",
    "\n",
    "print(s3_train_data)\n",
    "print(s3_test_data)\n",
    "print(output_location)"
   ]
  },
  {
   "cell_type": "markdown",
   "metadata": {},
   "source": [
    "Transformando no tipo de arquivo aceito no sagemaker"
   ]
  },
  {
   "cell_type": "code",
   "execution_count": null,
   "metadata": {},
   "outputs": [],
   "source": [
    "import os\n",
    "with open('./house_prices_train_xgboost.csv', 'rb') as f:\n",
    "    boto3.Session().resource('s3').Bucket(bucket).Object(os.path.join(subpasta_dataset, 'train', key_train)).upload_fileobj(f)"
   ]
  },
  {
   "cell_type": "code",
   "execution_count": null,
   "metadata": {},
   "outputs": [],
   "source": [
    "with open('./house_prices_test_xgboost.csv', 'rb') as f:\n",
    "    boto3.Session().resource('s3').Bucket(bucket).Object(os.path.join(subpasta_dataset, 'test', key_test)).upload_fileobj(f)"
   ]
  },
  {
   "cell_type": "markdown",
   "metadata": {},
   "source": [
    "# Treinamento XGBoost"
   ]
  },
  {
   "cell_type": "code",
   "execution_count": null,
   "metadata": {},
   "outputs": [],
   "source": [
    "from sagemaker import image_uris\n",
    "\n",
    "container = sagemaker.image_uris.retrieve(framework='xgboost', region=boto3.Session().region_name, version='latest')\n",
    "\n",
    "xgboost = sagemaker.estimator.Estimator(image_uri=container,\n",
    "                                       role = role,\n",
    "                                       instance_count= 1,\n",
    "                                       instance_type='ml.m5.2xlarge',\n",
    "                                       output_path= output_location,\n",
    "                                       sagemaker_session= session\n",
    "                                    )"
   ]
  },
  {
   "cell_type": "code",
   "execution_count": null,
   "metadata": {},
   "outputs": [],
   "source": [
    "# Variaveis\n",
    "xgboost.set_hyperparameters(num_round = 100)\n"
   ]
  },
  {
   "cell_type": "markdown",
   "metadata": {},
   "source": [
    "No Linear Leaner o treinamento e a validacao sao feitos com a mesma base de dados. No XGBoost não."
   ]
  },
  {
   "cell_type": "code",
   "execution_count": null,
   "metadata": {},
   "outputs": [],
   "source": [
    "train_input = sagemaker.inputs.TrainingInput(s3_data=s3_train_data,\n",
    "                                             content_type='csv',\n",
    "                                             s3_data_type='S3Prefix')\n",
    "\n",
    "validation_input = sagemaker.inputs.TrainingInput(s3_data=s3_test_data,\n",
    "                                             content_type='csv',\n",
    "                                             s3_data_type='S3Prefix')\n",
    "\n",
    "data_channels = {\n",
    "    \"train\": train_input,\n",
    "    \"validation\": validation_input\n",
    "}"
   ]
  },
  {
   "cell_type": "code",
   "execution_count": null,
   "metadata": {},
   "outputs": [],
   "source": [
    "# Treinamento\n",
    "xgboost.fit(data_channels)"
   ]
  },
  {
   "cell_type": "markdown",
   "metadata": {},
   "source": [
    "# Deploy, previsões e avaliação"
   ]
  },
  {
   "cell_type": "markdown",
   "metadata": {},
   "source": [
    "# Tuning"
   ]
  },
  {
   "cell_type": "markdown",
   "metadata": {},
   "source": [
    "Como descobrir os parametros ideiais para o treinamento:"
   ]
  },
  {
   "cell_type": "code",
   "execution_count": null,
   "metadata": {},
   "outputs": [],
   "source": [
    "# https://docs.aws.amazon.com/sagemaker/latest/dg/xgboost_hyperparameters.html\n",
    "\"\"\" {\n",
    "          Faixa de teste\n",
    "          \"MaxValue\": \"1\",\n",
    "          \"MinValue\": \"0\",\n",
    "          Nome do parametro \n",
    "          \"Name\": \"eta\"\n",
    "}, \"\"\"\n",
    "\n",
    "tuning_job_config = {\n",
    "    \"ParameterRanges\": {\n",
    "      \"CategoricalParameterRanges\": [],\n",
    "      \"ContinuousParameterRanges\": [\n",
    "        {\n",
    "          \"MaxValue\": \"1\",\n",
    "          \"MinValue\": \"0\",\n",
    "          \"Name\": \"eta\"\n",
    "        },\n",
    "        {\n",
    "          \"MaxValue\": \"2\",\n",
    "          \"MinValue\": \"0\",\n",
    "          \"Name\": \"alpha\" # Regularização \n",
    "        },\n",
    "        {\n",
    "          \"MaxValue\": \"10\",\n",
    "          \"MinValue\": \"1\",\n",
    "          \"Name\": \"min_child_weight\" # Numero minimo de instancias para ser definido uma folha na arvore\n",
    "        }\n",
    "      ],\n",
    "      \"IntegerParameterRanges\": [\n",
    "        {\n",
    "          \"MaxValue\": \"10\",\n",
    "          \"MinValue\": \"1\",\n",
    "          \"Name\": \"max_depth\" # Profundidade maxima da arvore\n",
    "        }\n",
    "      ],\n",
    "      \"IntegerParameterRanges\": [\n",
    "        {\n",
    "          \"MaxValue\": \"300\",\n",
    "          \"MinValue\": \"50\",\n",
    "          \"Name\": \"num_round\" # Numero de rodadas de treinamento\n",
    "        }\n",
    "      ]\n",
    "    },\n",
    "    \"ResourceLimits\": { # Quanto poder computacional será usado\n",
    "      \"MaxNumberOfTrainingJobs\": 9,\n",
    "      \"MaxParallelTrainingJobs\": 3 # numero de algortimos rodando em paralelo\n",
    "    },\n",
    "    \"Strategy\": \"Bayesian\",\n",
    "    \"HyperParameterTuningJobObjective\": {\n",
    "      \"MetricName\": \"validation:rmse\", # minimizar o valor do erro usando rmse\n",
    "      \"Type\": \"Minimize\"\n",
    "    }\n",
    "  }"
   ]
  },
  {
   "cell_type": "code",
   "execution_count": null,
   "metadata": {},
   "outputs": [],
   "source": [
    "training_job_definition = {\n",
    "    \"AlgorithmSpecification\": {\n",
    "      \"TrainingImage\": container, # Variavel criada\n",
    "      \"TrainingInputMode\": \"File\"\n",
    "    },\n",
    "    \"InputDataConfig\": [\n",
    "      {\n",
    "        \"ChannelName\": \"train\",\n",
    "        \"CompressionType\": \"None\",\n",
    "        \"ContentType\": \"csv\",\n",
    "        \"DataSource\": {\n",
    "          \"S3DataSource\": {\n",
    "            \"S3DataDistributionType\": \"FullyReplicated\",\n",
    "            \"S3DataType\": \"S3Prefix\",\n",
    "            \"S3Uri\": s3_train_data # Caminho para os arquvios de trainemnto\n",
    "          }\n",
    "        }\n",
    "      },\n",
    "      {\n",
    "        \"ChannelName\": \"validation\",\n",
    "        \"CompressionType\": \"None\",\n",
    "        \"ContentType\": \"csv\",\n",
    "        \"DataSource\": {\n",
    "          \"S3DataSource\": {\n",
    "            \"S3DataDistributionType\": \"FullyReplicated\",\n",
    "            \"S3DataType\": \"S3Prefix\",\n",
    "            \"S3Uri\": s3_test_data # caminho para os arquivos de teste\n",
    "          }\n",
    "        }\n",
    "      }\n",
    "    ],\n",
    "    \"OutputDataConfig\": {\n",
    "      \"S3OutputPath\": \"s3://{}/{}/output\".format(bucket,subpasta_modelo) # onde será salvo o modelo\n",
    "    },\n",
    "    \"ResourceConfig\": {\n",
    "      \"InstanceCount\": 2,\n",
    "      \"InstanceType\": \"ml.c4.2xlarge\",\n",
    "      \"VolumeSizeInGB\": 10\n",
    "    },\n",
    "    \"RoleArn\": \"arn:aws:iam::339712791663:role/service-role/AmazonSageMaker-ExecutionRole-20240702T173175\",\n",
    "    \"StaticHyperParameters\": {\n",
    "      \"eval_metric\": \"rmse\",\n",
    "      \"objective\": \"reg:linear\",\n",
    "      \"rate_drop\": \"0.3\",\n",
    "      \"tweedie_variance_power\": \"1.4\"\n",
    "    },\n",
    "    \"StoppingCondition\": {\n",
    "      \"MaxRuntimeInSeconds\": 43200\n",
    "    }\n",
    "}"
   ]
  },
  {
   "cell_type": "code",
   "execution_count": null,
   "metadata": {},
   "outputs": [],
   "source": [
    "smclient = boto3.client('sagemaker')\n",
    "smclient.create_hyper_parameter_tuning_job(HyperParameterTuningJobName = \"xgboosttuninghouses\",\n",
    "                                          HyperParameterTuningJobConfig = tuning_job_config,\n",
    "                                          TrainingJobDefinition = training_job_definition)"
   ]
  },
  {
   "cell_type": "markdown",
   "metadata": {},
   "source": [
    "Contruindo novo modelo."
   ]
  },
  {
   "cell_type": "code",
   "execution_count": null,
   "metadata": {},
   "outputs": [],
   "source": [
    "container = image_uris.retrieve(framework='xgboost',region=boto3.Session().region_name,version='latest')\n",
    "xgboost_tuning = sagemaker.estimator.Estimator(image_uri = container,\n",
    "                                        role = role, \n",
    "                                        instance_count = 1, \n",
    "                                        instance_type = 'ml.m5.2xlarge',\n",
    "                                        output_path = output_location,\n",
    "                                        sagemaker_session = session)\n",
    "# Valores coletados do console.\n",
    "xgboost_tuning.set_hyperparameters(num_round = 215, eta = 0.07545286994225804,\n",
    "                                   min_child_weight = 2.4061755279241996,\n",
    "                                   alpha = 1.5934054040797325, tweedie_variance_power = 1.4,\n",
    "                                   rate_drop = 0.3)\n",
    "\n",
    "xgboost_tuning.fit(data_channels)"
   ]
  },
  {
   "cell_type": "code",
   "execution_count": null,
   "metadata": {},
   "outputs": [],
   "source": [
    "xgboost_regressor_tuning.serializer = CSVSerializer()\n",
    "previsoes = np.array(xgboost_regressor_tuning.predict(X_teste).decode('utf-8').split(',')).astype(np.float32)"
   ]
  },
  {
   "cell_type": "code",
   "execution_count": null,
   "metadata": {},
   "outputs": [],
   "source": [
    "from sklearn.metrics import mean_absolute_error, mean_squared_error\n",
    "mae = mean_absolute_error(y_teste, previsoes)\n",
    "mse = mean_squared_error(y_teste, previsoes)\n",
    "print('MAE = ', mae, '\\nMSE = ', mse)"
   ]
  }
 ],
 "metadata": {
  "kernelspec": {
   "display_name": "ml-test",
   "language": "python",
   "name": "python3"
  },
  "language_info": {
   "codemirror_mode": {
    "name": "ipython",
    "version": 3
   },
   "file_extension": ".py",
   "mimetype": "text/x-python",
   "name": "python",
   "nbconvert_exporter": "python",
   "pygments_lexer": "ipython3",
   "version": "3.10.12"
  }
 },
 "nbformat": 4,
 "nbformat_minor": 2
}
