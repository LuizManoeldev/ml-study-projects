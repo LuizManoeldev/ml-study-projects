{
 "cells": [
  {
   "cell_type": "markdown",
   "metadata": {},
   "source": [
    "## Importação dos dados"
   ]
  },
  {
   "cell_type": "code",
   "execution_count": null,
   "metadata": {},
   "outputs": [],
   "source": [
    "import pandas as pd \n",
    "import numpy as np\n",
    "import xgboost as xgb\n",
    "import numpy as np\n",
    "from sklearn.metrics import accuracy_score, classification_report, confusion_matrix\n",
    "import matplotlib.pyplot as plt\n",
    "import seaborn as sns\n",
    "\n",
    "base_hotel = pd.read_csv('HotelReservations.csv')"
   ]
  },
  {
   "cell_type": "code",
   "execution_count": null,
   "metadata": {},
   "outputs": [],
   "source": [
    "# Excluindo colunas desnecessarias \n",
    "base_hotel = base_hotel.drop(['no_of_previous_bookings_not_canceled', \n",
    "                              'Booking_ID', \n",
    "                              'no_of_weekend_nights', \n",
    "                              'no_of_week_nights'], \n",
    "                              axis = 1)\n",
    "\n",
    "# Booking_ID,no_of_adults, no_of_children,no_of_weekend_nights,\n",
    "# no_of_week_nights,type_of_meal_plan,required_car_parking_space,\n",
    "# room_type_reserved,lead_time,arrival_year,arrival_month,\n",
    "# arrival_date,market_segment_type,repeated_guest,\n",
    "# no_of_previous_cancellations,no_of_previous_bookings_not_canceled,\n",
    "# avg_price_per_room,no_of_special_requests,booking_status"
   ]
  },
  {
   "cell_type": "code",
   "execution_count": null,
   "metadata": {},
   "outputs": [],
   "source": [
    "# Supondo que seu DataFrame se chama base_hotel e já possui a coluna avg_price_per_room\n",
    "# base_hotel = pd.read_csv('caminho/para/seu/arquivo.csv')  # Caso você esteja lendo de um arquivo CSV\n",
    "\n",
    "# Criar a coluna label_avg_price_per_room com base nos critérios fornecidos\n",
    "base_hotel['label_avg_price_per_room'] = pd.cut(base_hotel['avg_price_per_room'],\n",
    "                                                 bins=[-float('inf'), 85, 115, float('inf')],\n",
    "                                                 labels=[1, 2, 3])\n",
    "\n",
    "# Mapear os valores de 1, 2, 3 para 0, 1, 2\n",
    "mapping = {1: 0, 2: 1, 3: 2}\n",
    "base_hotel['label_avg_price_per_room'] = base_hotel['label_avg_price_per_room'].replace(mapping)\n",
    "\n",
    "# Reordenar as colunas para ter a coluna alvo primeiro\n",
    "target_column = 'label_avg_price_per_room'\n",
    "columns = [target_column] + [col for col in base_hotel.columns if col != target_column]\n",
    "base_hotel = base_hotel[columns]\n",
    "\n",
    "# Exibir o DataFrame resultante\n",
    "print(base_hotel)\n"
   ]
  },
  {
   "cell_type": "code",
   "execution_count": null,
   "metadata": {},
   "outputs": [],
   "source": [
    "base_hotel = base_hotel.drop(['avg_price_per_room'], axis = 1)\n",
    "base_hotel"
   ]
  },
  {
   "cell_type": "markdown",
   "metadata": {},
   "source": [
    "## Bases de Treinamento e Teste"
   ]
  },
  {
   "cell_type": "code",
   "execution_count": null,
   "metadata": {},
   "outputs": [],
   "source": [
    "base_treinamento = base_hotel.iloc[0:28000,:]\n",
    "#print(base_treinamento.shape)\n",
    "\n",
    "base_teste = base_hotel.iloc[28000:,:]\n",
    "#print(base_teste.shape)"
   ]
  },
  {
   "cell_type": "markdown",
   "metadata": {},
   "source": [
    "### Convertendo colunas não numericas"
   ]
  },
  {
   "cell_type": "code",
   "execution_count": null,
   "metadata": {},
   "outputs": [],
   "source": [
    "base_treinamento = pd.get_dummies(base_treinamento, \n",
    "                                  columns=['room_type_reserved', \n",
    "                                           'market_segment_type',\n",
    "                                           'type_of_meal_plan',\n",
    "                                           'booking_status'])\n",
    "\n",
    "base_teste = pd.get_dummies(base_teste, columns=['room_type_reserved', 'market_segment_type', 'type_of_meal_plan', 'booking_status'])"
   ]
  },
  {
   "cell_type": "code",
   "execution_count": null,
   "metadata": {},
   "outputs": [],
   "source": [
    "base_teste"
   ]
  },
  {
   "cell_type": "markdown",
   "metadata": {},
   "source": [
    "### Diferenciado dados da coluna alvo e das restantes:\n",
    "\n",
    "X = Colunas Parametros -- Y = Coluna Alvo"
   ]
  },
  {
   "cell_type": "code",
   "execution_count": null,
   "metadata": {},
   "outputs": [],
   "source": [
    "X_teste = base_teste.iloc[:,1:29].values\n",
    "y_teste = base_teste.iloc[:, 0].values\n"
   ]
  },
  {
   "cell_type": "code",
   "execution_count": null,
   "metadata": {},
   "outputs": [],
   "source": [
    "print(base_teste.shape)\n",
    "print(X_teste.shape)"
   ]
  },
  {
   "cell_type": "markdown",
   "metadata": {},
   "source": [
    "### Consultando bases de dados"
   ]
  },
  {
   "cell_type": "code",
   "execution_count": null,
   "metadata": {},
   "outputs": [],
   "source": [
    "print(base_treinamento.shape)\n",
    "print(base_teste.shape)\n",
    "print(X_teste.shape)\n",
    "print(y_teste.shape)"
   ]
  },
  {
   "cell_type": "markdown",
   "metadata": {},
   "source": [
    "## Criando arquivos CSV para treinamento e teste"
   ]
  },
  {
   "cell_type": "code",
   "execution_count": null,
   "metadata": {},
   "outputs": [],
   "source": [
    "base_treinamento.to_csv('hotel_reservations_train_xgboost.csv', header = False, index = False)\n",
    "base_teste.to_csv('hotel_reservations_test_xgboost.csv', header = False, index = False)"
   ]
  },
  {
   "cell_type": "markdown",
   "metadata": {},
   "source": [
    "# Configurações do SageMaker"
   ]
  },
  {
   "cell_type": "code",
   "execution_count": null,
   "metadata": {},
   "outputs": [],
   "source": [
    "import sagemaker\n",
    "import boto3\n",
    "from sagemaker import Session\n",
    "import sagemaker.amazon.common as smac\n",
    "import os, io\n",
    "\n",
    "boto_session = boto3.Session()\n",
    "session = sagemaker.Session(boto_session)"
   ]
  },
  {
   "cell_type": "code",
   "execution_count": null,
   "metadata": {},
   "outputs": [],
   "source": [
    "bucket_name = 'sagemaker-curso-bucket'\n",
    "\n",
    "subpasta_modelo = 'modelos/hotel-reservations/xgboost-1.7-1'\n",
    "subpasta_dataset = 'datasets/hotel-reservations'\n",
    "key_train = 'hotel-train-data-xgboost'\n",
    "key_test = 'hotel-test-data-xgboost'\n",
    "\n",
    "role = \"AmazonSageMaker-ExecutionRole-20240702T173175\""
   ]
  },
  {
   "cell_type": "code",
   "execution_count": null,
   "metadata": {},
   "outputs": [],
   "source": [
    "s3_train_data = 's3://{}/{}/train/{}'.format(bucket_name, subpasta_dataset, key_train)\n",
    "s3_test_data = 's3://{}/{}/test/{}'.format(bucket_name, subpasta_dataset, key_test)\n",
    "output_location = 's3://{}/{}/output'.format(bucket_name, subpasta_modelo)\n",
    "\n",
    "print(s3_train_data)\n",
    "print(s3_test_data)\n",
    "print(output_location)"
   ]
  },
  {
   "cell_type": "markdown",
   "metadata": {},
   "source": [
    "## Enviando arquivos para o S3:"
   ]
  },
  {
   "cell_type": "code",
   "execution_count": null,
   "metadata": {},
   "outputs": [],
   "source": [
    "# Treino \n",
    "import os\n",
    "with open('hotel_reservations_train_xgboost.csv', 'rb') as f:\n",
    "    s3_path = os.path.join(subpasta_dataset, 'train', key_train).replace('\\\\', '/')\n",
    "    boto_session.resource('s3').Bucket(bucket_name).Object(s3_path).upload_fileobj(f)\n",
    "    \n",
    "print(s3_path)"
   ]
  },
  {
   "cell_type": "code",
   "execution_count": null,
   "metadata": {},
   "outputs": [],
   "source": [
    "# Teste\n",
    "import os\n",
    "with open('hotel_reservations_test_xgboost.csv', 'rb') as f:\n",
    "    s3_path = os.path.join(subpasta_dataset, 'test', key_test).replace('\\\\', '/')\n",
    "    boto_session.resource('s3').Bucket(bucket_name).Object(s3_path).upload_fileobj(f)\n",
    "    \n",
    "print(s3_path)"
   ]
  },
  {
   "cell_type": "markdown",
   "metadata": {},
   "source": [
    "# Treinamento do XGBoost"
   ]
  },
  {
   "cell_type": "code",
   "execution_count": null,
   "metadata": {},
   "outputs": [],
   "source": [
    "# https://docs.aws.amazon.com/sagemaker/latest/dg/ecr-sa-east-1.html\n",
    "from sagemaker import image_uris\n",
    "\n",
    "container = image_uris.retrieve(framework = 'xgboost', \n",
    "                                region=boto3.Session().region_name, \n",
    "                                version='1.7-1')"
   ]
  },
  {
   "cell_type": "code",
   "execution_count": null,
   "metadata": {},
   "outputs": [],
   "source": [
    "hyperparameters = {\n",
    "    \"booster\": \"dart\",\n",
    "    \"num_round\": \"200\",\n",
    "    \"num_class\": \"3\",\n",
    "    \"objective\": \"multi:softmax\",\n",
    "    \"eval_metric\": \"mlogloss\",\n",
    "    \"min_child_weight\": \"6\"\n",
    "}\n",
    "\n",
    "v4_hyperparameters = { \n",
    "    \"num_round\" : \"200\", \n",
    "    \"num_class\": \"3\",\n",
    "    \"objective\": \"multi:softmax\",\n",
    "}"
   ]
  },
  {
   "cell_type": "code",
   "execution_count": null,
   "metadata": {},
   "outputs": [],
   "source": [
    "\n",
    "# https://sagemaker.readthedocs.io/en/stable/api/training/estimators.html\n",
    "xgboost = sagemaker.estimator.Estimator(image_uri = container,\n",
    "                                        role = role,\n",
    "                                        instance_count = 1,\n",
    "                                        instance_type = 'ml.m5.large',\n",
    "                                        output_path = output_location,\n",
    "                                        sagemaker_session = session,\n",
    "                                        use_spot_instances = True,\n",
    "                                        max_run = 3600,\n",
    "                                        max_wait = 3600,\n",
    "                                        hyperparameters=v4_hyperparameters\n",
    "                                        )"
   ]
  },
  {
   "cell_type": "code",
   "execution_count": null,
   "metadata": {},
   "outputs": [],
   "source": [
    "train_input = sagemaker.inputs.TrainingInput(s3_data = s3_train_data, content_type='csv', s3_data_type = 'S3Prefix')\n",
    "validation_input = sagemaker.inputs.TrainingInput(s3_data = s3_test_data, content_type='csv', s3_data_type = 'S3Prefix')\n",
    "data_channels = {'train': train_input, 'validation': validation_input}"
   ]
  },
  {
   "cell_type": "code",
   "execution_count": null,
   "metadata": {},
   "outputs": [],
   "source": [
    "job = 'XGBoost-V4'\n",
    "xgboost.fit(data_channels, job_name = job)"
   ]
  },
  {
   "cell_type": "markdown",
   "metadata": {},
   "source": [
    "# Tunning"
   ]
  },
  {
   "cell_type": "code",
   "execution_count": null,
   "metadata": {},
   "outputs": [],
   "source": [
    "tuning_job_config = {\n",
    "    \"ParameterRanges\": {\n",
    "      \"CategoricalParameterRanges\": [],\n",
    "      \"ContinuousParameterRanges\": [\n",
    "        {\n",
    "          \"MaxValue\": \"1\",\n",
    "          \"MinValue\": \"0\",\n",
    "          \"Name\": \"eta\"\n",
    "        },\n",
    "        {\n",
    "          \"MaxValue\": \"2\",\n",
    "          \"MinValue\": \"0\",\n",
    "          \"Name\": \"alpha\"\n",
    "        },\n",
    "        {\n",
    "          \"MaxValue\": \"10\",\n",
    "          \"MinValue\": \"1\",\n",
    "          \"Name\": \"min_child_weight\"\n",
    "        }\n",
    "      ],\n",
    "      \"IntegerParameterRanges\": [\n",
    "        {\n",
    "          \"MaxValue\": \"10\",\n",
    "          \"MinValue\": \"4\",\n",
    "          \"Name\": \"max_depth\"\n",
    "        }\n",
    "      ],\n",
    "      \"IntegerParameterRanges\": [\n",
    "        {\n",
    "          \"MaxValue\": \"300\",\n",
    "          \"MinValue\": \"50\",\n",
    "          \"Name\": \"num_round\"\n",
    "        }\n",
    "      ]\n",
    "    },\n",
    "    \"ResourceLimits\": {\n",
    "      \"MaxNumberOfTrainingJobs\": 9,\n",
    "      \"MaxParallelTrainingJobs\": 3\n",
    "    },\n",
    "    \"Strategy\": \"Bayesian\",\n",
    "    \"HyperParameterTuningJobObjective\": {\n",
    "      \"MetricName\": \"validation:merror\",\n",
    "      \"Type\": \"Minimize\"\n",
    "    }\n",
    "  }"
   ]
  },
  {
   "cell_type": "code",
   "execution_count": null,
   "metadata": {},
   "outputs": [],
   "source": [
    "# https://www.analyticsvidhya.com/blog/2016/03/complete-guide-parameter-tuning-xgboost-with-codes-python/\n",
    "training_job_definition = {\n",
    "    \"AlgorithmSpecification\": {\n",
    "      \"TrainingImage\": container,\n",
    "      \"TrainingInputMode\": \"File\"\n",
    "    },\n",
    "    \"InputDataConfig\": [\n",
    "      {\n",
    "        \"ChannelName\": \"train\",\n",
    "        \"CompressionType\": \"None\",\n",
    "        \"ContentType\": \"csv\",\n",
    "        \"DataSource\": {\n",
    "          \"S3DataSource\": {\n",
    "            \"S3DataDistributionType\": \"FullyReplicated\",\n",
    "            \"S3DataType\": \"S3Prefix\",\n",
    "            \"S3Uri\": s3_train_data\n",
    "          }\n",
    "        }\n",
    "      },\n",
    "      {\n",
    "        \"ChannelName\": \"validation\",\n",
    "        \"CompressionType\": \"None\",\n",
    "        \"ContentType\": \"csv\",\n",
    "        \"DataSource\": {\n",
    "          \"S3DataSource\": {\n",
    "            \"S3DataDistributionType\": \"FullyReplicated\",\n",
    "            \"S3DataType\": \"S3Prefix\",\n",
    "            \"S3Uri\": s3_test_data\n",
    "          }\n",
    "        }\n",
    "      }\n",
    "    ],\n",
    "    \"OutputDataConfig\": {\n",
    "      \"S3OutputPath\": \"s3://{}/{}/output\".format(bucket_name,subpasta_modelo)\n",
    "    },\n",
    "    \"ResourceConfig\": {\n",
    "      \"InstanceCount\": 2,\n",
    "      \"InstanceType\": \"ml.c4.2xlarge\",\n",
    "      \"VolumeSizeInGB\": 10\n",
    "    },\n",
    "    \"RoleArn\": \"arn:aws:iam::339712791663:role/service-role/AmazonSageMaker-ExecutionRole-20240702T173175\",\n",
    "    \"StaticHyperParameters\": {\n",
    "      \"eval_metric\": \"merror\",\n",
    "      \"objective\": \"multi:softmax\",\n",
    "      \"rate_drop\": \"0.3\",\n",
    "      \"tweedie_variance_power\": \"1.4\",\n",
    "      \"num_class\": \"3\"\n",
    "    },\n",
    "    \"StoppingCondition\": {\n",
    "      \"MaxRuntimeInSeconds\": 43200\n",
    "    }\n",
    "}"
   ]
  },
  {
   "cell_type": "code",
   "execution_count": null,
   "metadata": {},
   "outputs": [],
   "source": [
    "smclient = boto3.client('sagemaker')\n",
    "smclient.create_hyper_parameter_tuning_job(HyperParameterTuningJobName = \"xgboost-v7-tunning\",\n",
    "                                          HyperParameterTuningJobConfig = tuning_job_config,\n",
    "                                          TrainingJobDefinition = training_job_definition)"
   ]
  },
  {
   "cell_type": "markdown",
   "metadata": {},
   "source": [
    "# Load do modelo e Testes"
   ]
  },
  {
   "cell_type": "code",
   "execution_count": null,
   "metadata": {},
   "outputs": [],
   "source": [
    "import xgboost as xgb\n",
    "\n",
    "\n",
    "model_file_key = 'modelos/hotel-reservations/xgboost-1.7-1/output/XGBoost-V2/output/model.tar.gz'\n",
    "local_model_path = 'model.tar.gz'\n",
    "\n",
    "s3 = boto3.client('s3')\n",
    "s3.download_file(bucket_name, model_file_key, local_model_path)\n"
   ]
  },
  {
   "cell_type": "code",
   "execution_count": null,
   "metadata": {},
   "outputs": [],
   "source": [
    "import tarfile\n",
    "with tarfile.open('model.tar.gz', 'r:gz') as tar:\n",
    "    tar_list = tar.getnames()\n",
    "    print(\"Files in the tar archive:\", tar_list)\n",
    "    \n",
    "    # Extract all files\n",
    "    tar.extractall()\n",
    "\n",
    "\n",
    "model_file = 'xgboost-model'\n",
    "if os.path.exists(model_file):\n",
    "    with open(model_file, 'rb') as f:\n",
    "        file_header = f.read(4)\n",
    "        print(\"File header:\", file_header)"
   ]
  },
  {
   "cell_type": "code",
   "execution_count": null,
   "metadata": {},
   "outputs": [],
   "source": [
    "model_file = 'xgboost-model'\n",
    "\n",
    "# Carregar o modelo\n",
    "model = xgb.Booster()\n",
    "model.load_model(model_file)"
   ]
  },
  {
   "cell_type": "code",
   "execution_count": null,
   "metadata": {},
   "outputs": [],
   "source": [
    "dtest = xgb.DMatrix(X_teste)\n",
    "previsoes = model.predict(dtest)\n",
    "\n",
    "# Arredondar previsões para o valor mais próximo\n",
    "previsoes_rounded = np.round(previsoes).astype(int)\n",
    "\n",
    "# Calcular e imprimir a acurácia\n",
    "accuracy = accuracy_score(y_teste, previsoes_rounded)\n",
    "print(f'Acurácia: {accuracy * 100:.2f}%')\n",
    "\n",
    "# Relatório de classificação\n",
    "print(classification_report(y_teste, previsoes_rounded))\n",
    "\n",
    "# Matriz de confusão\n",
    "conf_matrix = confusion_matrix(y_teste, previsoes_rounded)\n",
    "plt.figure(figsize=(7, 4))\n",
    "sns.heatmap(conf_matrix, annot=True, fmt='d', cmap='Blues', xticklabels=[0, 1, 2], yticklabels=[0, 1, 2])\n",
    "plt.xlabel('Predicted Label')\n",
    "plt.ylabel('True Label')\n",
    "plt.title('Confusion Matrix')\n",
    "plt.show()"
   ]
  }
 ],
 "metadata": {
  "kernelspec": {
   "display_name": "ml-test",
   "language": "python",
   "name": "python3"
  },
  "language_info": {
   "codemirror_mode": {
    "name": "ipython",
    "version": 3
   },
   "file_extension": ".py",
   "mimetype": "text/x-python",
   "name": "python",
   "nbconvert_exporter": "python",
   "pygments_lexer": "ipython3",
   "version": "3.10.12"
  }
 },
 "nbformat": 4,
 "nbformat_minor": 2
}
