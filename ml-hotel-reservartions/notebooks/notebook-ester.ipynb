{
 "cells": [
  {
   "cell_type": "markdown",
   "metadata": {},
   "source": [
    "# Tratamento da base de dados"
   ]
  },
  {
   "cell_type": "code",
   "execution_count": null,
   "metadata": {},
   "outputs": [],
   "source": [
    "import pandas as pd \n",
    "import numpy as np\n",
    "import xgboost as xgb\n",
    "import numpy as np\n",
    "from sklearn.metrics import accuracy_score, classification_report, confusion_matrix\n",
    "import matplotlib.pyplot as plt\n",
    "import seaborn as sns\n",
    "\n",
    "base_hotel = pd.read_csv('HotelReservations.csv')"
   ]
  },
  {
   "cell_type": "code",
   "execution_count": null,
   "metadata": {},
   "outputs": [],
   "source": [
    "base_hotel = base_hotel.drop(['no_of_previous_bookings_not_canceled', 'Booking_ID', 'no_of_weekend_nights', 'no_of_week_nights'], axis = 1)\n",
    "# Booking_ID,no_of_adults,no_of_children,no_of_weekend_nights,no_of_week_nights,type_of_meal_plan,required_car_parking_space,room_type_reserved,lead_time,arrival_year,arrival_month,arrival_date,market_segment_type,repeated_guest,no_of_previous_cancellations,no_of_previous_bookings_not_canceled,avg_price_per_room,no_of_special_requests,booking_status"
   ]
  },
  {
   "cell_type": "code",
   "execution_count": null,
   "metadata": {},
   "outputs": [],
   "source": [
    "# Supondo que seu DataFrame se chama base_hotel e já possui a coluna avg_price_per_room\n",
    "# base_hotel = pd.read_csv('caminho/para/seu/arquivo.csv')  # Caso você esteja lendo de um arquivo CSV\n",
    "\n",
    "# Criar a coluna label_avg_price_per_room com base nos critérios fornecidos\n",
    "base_hotel['label_avg_price_per_room'] = pd.cut(base_hotel['avg_price_per_room'],\n",
    "                                                 bins=[-float('inf'), 85, 115, float('inf')],\n",
    "                                                 labels=[1, 2, 3])\n",
    "\n",
    "# Mapear os valores de 1, 2, 3 para 0, 1, 2\n",
    "mapping = {1: 0, 2: 1, 3: 2}\n",
    "base_hotel['label_avg_price_per_room'] = base_hotel['label_avg_price_per_room'].replace(mapping)\n",
    "\n",
    "# Reordenar as colunas para ter a coluna alvo primeiro\n",
    "target_column = 'label_avg_price_per_room'\n",
    "columns = [target_column] + [col for col in base_hotel.columns if col != target_column]\n",
    "base_hotel = base_hotel[columns]\n",
    "\n",
    "# Exibir o DataFrame resultante\n",
    "print(base_hotel)\n"
   ]
  },
  {
   "cell_type": "code",
   "execution_count": null,
   "metadata": {},
   "outputs": [],
   "source": [
    "base_hotel = base_hotel.drop(['avg_price_per_room'], axis = 1)"
   ]
  },
  {
   "cell_type": "code",
   "execution_count": null,
   "metadata": {},
   "outputs": [],
   "source": [
    "\n",
    "base_hotel"
   ]
  },
  {
   "cell_type": "code",
   "execution_count": null,
   "metadata": {},
   "outputs": [],
   "source": [
    "base_treinamento = base_hotel.iloc[0:28000,:]\n",
    "print(base_treinamento.shape)"
   ]
  },
  {
   "cell_type": "code",
   "execution_count": null,
   "metadata": {},
   "outputs": [],
   "source": [
    "base_teste = base_hotel.iloc[28000:,:]\n",
    "print(base_teste.shape)\n"
   ]
  },
  {
   "cell_type": "code",
   "execution_count": null,
   "metadata": {},
   "outputs": [],
   "source": [
    "base_treinamento = pd.get_dummies(base_treinamento, columns=['room_type_reserved', 'market_segment_type','type_of_meal_plan','booking_status'])\n",
    "base_teste = pd.get_dummies(base_teste, columns=['room_type_reserved', 'market_segment_type', 'type_of_meal_plan', 'booking_status'])"
   ]
  },
  {
   "cell_type": "code",
   "execution_count": null,
   "metadata": {},
   "outputs": [],
   "source": [
    "base_teste\n"
   ]
  },
  {
   "cell_type": "code",
   "execution_count": null,
   "metadata": {},
   "outputs": [],
   "source": [
    "X_teste = base_teste.iloc[:,1:29].values\n",
    "y_teste = base_teste.iloc[:, 0].values"
   ]
  },
  {
   "cell_type": "code",
   "execution_count": null,
   "metadata": {},
   "outputs": [],
   "source": [
    "print(base_teste.shape)\n",
    "print(X_teste.shape)"
   ]
  },
  {
   "cell_type": "code",
   "execution_count": null,
   "metadata": {},
   "outputs": [],
   "source": [
    "print(base_treinamento.shape)\n",
    "print(base_teste.shape)\n",
    "print(X_teste.shape)\n",
    "print(y_teste.shape)\n"
   ]
  },
  {
   "cell_type": "code",
   "execution_count": null,
   "metadata": {},
   "outputs": [],
   "source": [
    "base_treinamento.to_csv('hotel_reservations_train_xgboost.csv', header = False, index = False)\n",
    "base_teste.to_csv('hotel_reservations_test_xgboost.csv', header = False, index = False)"
   ]
  },
  {
   "cell_type": "markdown",
   "metadata": {},
   "source": [
    "# Configurações SageMaker"
   ]
  },
  {
   "cell_type": "code",
   "execution_count": null,
   "metadata": {},
   "outputs": [],
   "source": [
    "import sagemaker\n",
    "import boto3\n",
    "from sagemaker import Session\n",
    "\n",
    "profile_name = \"ester\"\n",
    "boto_session = boto3.Session() #profile_name=profile_name\n",
    "boto3.setup_default_session()\n",
    "\n",
    "session = sagemaker.Session(boto_session)\n",
    "\n",
    "#bucket_name = \"bucketcsvdataset\"\n",
    "bucket_name = 'sagemaker-curso-bucket'\n",
    "\n",
    "subpasta_modelo = 'modelos/hotel-reservationXGBoost3V1-7-1/xgboost'\n",
    "subpasta_dataset = 'datasets/hotel-reservations'\n",
    "key_train = 'hotel-train-data-xgboost'\n",
    "key_test = 'hotel-test-data-xgboost'\n",
    "\n",
    "#role = 'arn:aws:iam::730335509042:role/service-role/AmazonSageMaker-ExecutionRole-20240702T161917'\n",
    "role = \"AmazonSageMaker-ExecutionRole-20240702T173175\"\n",
    "\n",
    "s3_train_data = 's3://{}/{}/train/{}'.format(bucket_name, subpasta_dataset, key_train)\n",
    "s3_test_data = 's3://{}/{}/test/{}'.format(bucket_name, subpasta_dataset, key_test)\n",
    "output_location = 's3://{}/{}/output'.format(bucket_name, subpasta_modelo)\n",
    "\n",
    "print(s3_train_data)\n",
    "print(s3_test_data)\n",
    "print(output_location)"
   ]
  },
  {
   "cell_type": "code",
   "execution_count": null,
   "metadata": {},
   "outputs": [],
   "source": [
    "import os\n",
    "with open('hotel_reservations_train_xgboost.csv', 'rb') as f:\n",
    "    s3_path = os.path.join(subpasta_dataset, 'train', key_train).replace('\\\\', '/')\n",
    "    boto_session.resource('s3').Bucket(bucket_name).Object(s3_path).upload_fileobj(f)\n",
    "    \n",
    "print(s3_path)"
   ]
  },
  {
   "cell_type": "code",
   "execution_count": null,
   "metadata": {},
   "outputs": [],
   "source": [
    "import os\n",
    "with open('hotel_reservations_test_xgboost.csv', 'rb') as f:\n",
    "    s3_path = os.path.join(subpasta_dataset, 'test', key_test).replace('\\\\', '/')\n",
    "    boto_session.resource('s3').Bucket(bucket_name).Object(s3_path).upload_fileobj(f)\n",
    "    \n",
    "print(s3_path)"
   ]
  },
  {
   "cell_type": "markdown",
   "metadata": {},
   "source": [
    "# Treinamento XGBoost"
   ]
  },
  {
   "cell_type": "code",
   "execution_count": null,
   "metadata": {},
   "outputs": [],
   "source": [
    "# https://docs.aws.amazon.com/sagemaker/latest/dg/ecr-sa-east-1.html\n",
    "from sagemaker import image_uris\n",
    "container = image_uris.retrieve(framework = 'xgboost', region=boto3.Session().region_name, version='1.7-1')"
   ]
  },
  {
   "cell_type": "code",
   "execution_count": null,
   "metadata": {},
   "outputs": [],
   "source": [
    "hyperparameters = {\n",
    "    \"booster\": \"dart\",\n",
    "    \"num_round\": \"200\",\n",
    "    \"num_class\": \"3\",\n",
    "    \"objective\": \"multi:softmax\",\n",
    "    \"eval_metric\": \"mlogloss\",\n",
    "    \"min_child_weight\": \"6\"\n",
    "}"
   ]
  },
  {
   "cell_type": "code",
   "execution_count": null,
   "metadata": {},
   "outputs": [],
   "source": [
    "\n",
    "# https://sagemaker.readthedocs.io/en/stable/api/training/estimators.html\n",
    "xgboost = sagemaker.estimator.Estimator(image_uri = container,\n",
    "                                        role = role,\n",
    "                                        instance_count = 1,\n",
    "                                        instance_type = 'ml.m5.large',\n",
    "                                        output_path = output_location,\n",
    "                                        sagemaker_session = session,\n",
    "                                        use_spot_instances = True,\n",
    "                                        max_run = 3600,\n",
    "                                        max_wait = 3600,\n",
    "                                        hyperparameters=hyperparameters\n",
    "                                        )"
   ]
  },
  {
   "cell_type": "code",
   "execution_count": null,
   "metadata": {},
   "outputs": [],
   "source": [
    "train_input = sagemaker.inputs.TrainingInput(s3_data = s3_train_data, content_type='csv', s3_data_type = 'S3Prefix')\n",
    "validation_input = sagemaker.inputs.TrainingInput(s3_data = s3_test_data, content_type='csv', s3_data_type = 'S3Prefix')\n",
    "data_channels = {'train': train_input, 'validation': validation_input}"
   ]
  },
  {
   "cell_type": "code",
   "execution_count": null,
   "metadata": {},
   "outputs": [],
   "source": [
    "job = 'XGBoost-V25'\n",
    "xgboost.fit(data_channels, job_name = job)"
   ]
  },
  {
   "cell_type": "markdown",
   "metadata": {},
   "source": [
    "# Inferências"
   ]
  },
  {
   "cell_type": "code",
   "execution_count": null,
   "metadata": {},
   "outputs": [],
   "source": [
    "import xgboost as xgb\n",
    "\n",
    "model_file_key = 'modelos/hotel-reservationXGBoost3V1-7-1/xgboost/output/XGBoost-V25/output/model.tar.gz'\n",
    "local_model_path = '../model/model.tar.gz'\n",
    "\n",
    "s3 = boto3.client('s3')\n",
    "s3.download_file(bucket_name, model_file_key, local_model_path)"
   ]
  },
  {
   "cell_type": "code",
   "execution_count": null,
   "metadata": {},
   "outputs": [],
   "source": [
    "import tarfile\n",
    "import os\n",
    "with tarfile.open(local_model_path, 'r:gz') as tar:\n",
    "    tar_list = tar.getnames()\n",
    "    print(\"Files in the tar archive:\", tar_list)\n",
    "    \n",
    "    # Extract all files\n",
    "    tar.extractall()\n",
    "\n",
    "\n",
    "model_file = 'xgboost-model'\n",
    "if os.path.exists(model_file):\n",
    "    with open(model_file, 'rb') as f:\n",
    "        file_header = f.read(4)\n",
    "        print(\"File header:\", file_header)"
   ]
  },
  {
   "cell_type": "code",
   "execution_count": null,
   "metadata": {},
   "outputs": [],
   "source": [
    "model_file = 'xgboost-model'\n",
    "\n",
    "# Carregar o modelo\n",
    "model = xgb.Booster()\n",
    "model.load_model(model_file)"
   ]
  },
  {
   "cell_type": "code",
   "execution_count": null,
   "metadata": {},
   "outputs": [],
   "source": [
    "dtest = xgb.DMatrix(X_teste)\n",
    "previsoes = model.predict(dtest)\n",
    "\n",
    "# Arredondar previsões para o valor mais próximo\n",
    "previsoes_rounded = np.round(previsoes).astype(int)\n",
    "\n",
    "# Calcular e imprimir a acurácia\n",
    "accuracy = accuracy_score(y_teste, previsoes_rounded)\n",
    "print(f'Acurácia: {accuracy * 100:.2f}%')\n",
    "\n",
    "# Relatório de classificação\n",
    "print(classification_report(y_teste, previsoes_rounded))\n",
    "\n",
    "# Matriz de confusão\n",
    "conf_matrix = confusion_matrix(y_teste, previsoes_rounded)\n",
    "plt.figure(figsize=(7, 4))\n",
    "sns.heatmap(conf_matrix, annot=True, fmt='d', cmap='Blues', xticklabels=[0, 1, 2], yticklabels=[0, 1, 2])\n",
    "plt.xlabel('Predicted Label')\n",
    "plt.ylabel('True Label')\n",
    "plt.title('Confusion Matrix')\n",
    "plt.show()"
   ]
  },
  {
   "cell_type": "code",
   "execution_count": null,
   "metadata": {},
   "outputs": [],
   "source": [
    "%%sh\n",
    "rm xgboost-model\n",
    "rm model.tar.gz"
   ]
  },
  {
   "cell_type": "markdown",
   "metadata": {},
   "source": []
  }
 ],
 "metadata": {
  "kernelspec": {
   "display_name": "Python 3",
   "language": "python",
   "name": "python3"
  },
  "language_info": {
   "codemirror_mode": {
    "name": "ipython",
    "version": 3
   },
   "file_extension": ".py",
   "mimetype": "text/x-python",
   "name": "python",
   "nbconvert_exporter": "python",
   "pygments_lexer": "ipython3",
   "version": "3.10.12"
  }
 },
 "nbformat": 4,
 "nbformat_minor": 2
}
