{
 "cells": [
  {
   "cell_type": "markdown",
   "metadata": {},
   "source": [
    "# Tratamento da base de dados"
   ]
  },
  {
   "cell_type": "code",
   "execution_count": null,
   "metadata": {},
   "outputs": [],
   "source": [
    "# Baseado em https://github.com/ChandraLingam/AmazonSageMakerCourse/tree/master/DeepAR/BikeRental\n",
    "import pandas as pd\n",
    "import matplotlib.pyplot as plt\n",
    "import json\n",
    "import os\n",
    "import numpy as np\n",
    "import datetime"
   ]
  },
  {
   "cell_type": "code",
   "execution_count": null,
   "metadata": {},
   "outputs": [],
   "source": [
    "# https://www.kaggle.com/competitions/bike-sharing-demand/data\n",
    "base = pd.read_csv('./csv_files/train.csv')\n",
    "base"
   ]
  },
  {
   "cell_type": "markdown",
   "metadata": {},
   "source": [
    "Para trabalhar com leituras temporais, precisamos da coluna datetime no formato de data e não string/int"
   ]
  },
  {
   "cell_type": "code",
   "execution_count": null,
   "metadata": {},
   "outputs": [],
   "source": [
    "# Considerando as datas como indices \n",
    "base = pd.read_csv('./csv_files/train.csv', parse_dates=['datetime'], index_col=0)\n",
    "base"
   ]
  },
  {
   "cell_type": "code",
   "execution_count": null,
   "metadata": {},
   "outputs": [],
   "source": [
    "base.drop(columns = ['season', 'holiday','workingday','weather','temp','atemp', 'humidity','windspeed','casual', 'registered'], axis=1, inplace = True)\n",
    "base"
   ]
  },
  {
   "cell_type": "code",
   "execution_count": null,
   "metadata": {},
   "outputs": [],
   "source": [
    "# Agrupando numa frequencia Diaria D\n",
    "base = base.groupby(pd.Grouper(freq = 'D')).sum()\n",
    "base"
   ]
  },
  {
   "cell_type": "code",
   "execution_count": null,
   "metadata": {},
   "outputs": [],
   "source": [
    "base_teste = base.copy()\n",
    "base_teste.shape"
   ]
  },
  {
   "cell_type": "markdown",
   "metadata": {},
   "source": [
    "No DeepAR o modelo será treinado com menos registros do que será testado."
   ]
  },
  {
   "cell_type": "code",
   "execution_count": null,
   "metadata": {},
   "outputs": [],
   "source": [
    "base_treinamento = base.iloc[0:689,:]\n",
    "base_treinamento"
   ]
  },
  {
   "cell_type": "code",
   "execution_count": null,
   "metadata": {},
   "outputs": [],
   "source": [
    "base_treinamento.index.min(), base_treinamento.index.max()"
   ]
  },
  {
   "cell_type": "code",
   "execution_count": null,
   "metadata": {},
   "outputs": [],
   "source": [
    "base_teste.index.min(), base_teste.index.max()"
   ]
  },
  {
   "cell_type": "markdown",
   "metadata": {},
   "source": [
    "Convertendo para o tipo de dado aceito no DeepAR"
   ]
  },
  {
   "cell_type": "code",
   "execution_count": null,
   "metadata": {},
   "outputs": [],
   "source": [
    "# Creating timestamps without the 'freq' parameter\n",
    "dt_data_inicial = pd.Timestamp(\"2011-01-01\")\n",
    "dt_data_final_treinamento = pd.Timestamp(\"2012-11-19\")\n",
    "dt_previsao_maxima = pd.Timestamp(\"2012-12-19\")\n",
    "\n",
    "# Creating tuples for training and testing ranges\n",
    "faixa_treinamento = (dt_data_inicial, dt_data_final_treinamento)\n",
    "faixa_teste = (dt_data_inicial, dt_previsao_maxima)\n",
    "\n",
    "print(faixa_treinamento)\n",
    "print(faixa_teste)"
   ]
  },
  {
   "cell_type": "markdown",
   "metadata": {},
   "source": [
    "Necessario que os dados estejam no formato de lista"
   ]
  },
  {
   "cell_type": "code",
   "execution_count": null,
   "metadata": {},
   "outputs": [],
   "source": [
    "serie_temporal_treinamento = []\n",
    "serie_temporal_teste = []\n",
    "\n",
    "# Posicao 0 da tupla igual inicio - Posicao 1 = fim\n",
    "serie_temporal_treinamento.append(base_treinamento[faixa_treinamento[0]:faixa_treinamento[1]]['count'])\n",
    "serie_temporal_teste.append(base_teste[faixa_teste[0]:faixa_teste[1]]['count'])"
   ]
  },
  {
   "cell_type": "code",
   "execution_count": null,
   "metadata": {},
   "outputs": [],
   "source": [
    "type(serie_temporal_treinamento), type(serie_temporal_teste)"
   ]
  },
  {
   "cell_type": "code",
   "execution_count": null,
   "metadata": {},
   "outputs": [],
   "source": [
    "serie_temporal_treinamento"
   ]
  },
  {
   "cell_type": "code",
   "execution_count": null,
   "metadata": {},
   "outputs": [],
   "source": [
    "len(serie_temporal_treinamento[0]), len(serie_temporal_teste[0])"
   ]
  },
  {
   "cell_type": "code",
   "execution_count": null,
   "metadata": {},
   "outputs": [],
   "source": [
    "plt.figure(figsize=(10,10))\n",
    "serie_temporal_teste[0].plot(label = \"Teste\")\n",
    "serie_temporal_treinamento[0].plot(label = \"Treinamento\")\n",
    "plt.legend()\n",
    "plt.show()"
   ]
  },
  {
   "cell_type": "code",
   "execution_count": null,
   "metadata": {},
   "outputs": [],
   "source": [
    "# Function para eliminar valores invalidos\n",
    "def encode_target(ts):\n",
    "    return [x if np.isfinite(x) else \"NaN\" for x in ts]\n",
    "\n",
    "encode_target(serie_temporal_treinamento[0][0:25])"
   ]
  },
  {
   "cell_type": "code",
   "execution_count": null,
   "metadata": {},
   "outputs": [],
   "source": [
    "# Convertendo para o formato aceito pelo DeepAR\n",
    "def series_to_obj(ts):\n",
    "    obj = {\"start\": str(ts.index[0]), \"target\": encode_target(ts)}\n",
    "    return obj\n",
    "\n",
    "series_to_obj(serie_temporal_treinamento[0][0:5])"
   ]
  },
  {
   "cell_type": "code",
   "execution_count": null,
   "metadata": {},
   "outputs": [],
   "source": [
    "def series_to_jsonline(ts):\n",
    "    return json.dumps(series_to_obj(ts))\n",
    "\n",
    "series_to_jsonline(serie_temporal_treinamento[0][0:5])"
   ]
  },
  {
   "cell_type": "markdown",
   "metadata": {},
   "source": [
    "Criando um Json com a base de teste e base de treinamento"
   ]
  },
  {
   "cell_type": "code",
   "execution_count": null,
   "metadata": {},
   "outputs": [],
   "source": [
    "encoding = 'utf-8'\n",
    "arquivo_json_treinamento = 'train.json'\n",
    "arquivo_json_teste = 'test.json'\n",
    "with open(arquivo_json_treinamento, 'wb') as fp:\n",
    "    for ts in serie_temporal_treinamento:\n",
    "        fp.write(series_to_jsonline(ts).encode(encoding))\n",
    "        fp.write('\\n'.encode(encoding))\n",
    "\n",
    "with open(arquivo_json_teste, 'wb') as fp:\n",
    "    for ts in serie_temporal_teste:\n",
    "        fp.write(series_to_jsonline(ts).encode(encoding))\n",
    "        fp.write('\\n'.encode(encoding))"
   ]
  },
  {
   "cell_type": "markdown",
   "metadata": {},
   "source": [
    "# Confiurações SageMaker"
   ]
  },
  {
   "cell_type": "code",
   "execution_count": null,
   "metadata": {},
   "outputs": [],
   "source": [
    "import boto3\n",
    "import sagemaker\n",
    "import os"
   ]
  },
  {
   "cell_type": "code",
   "execution_count": null,
   "metadata": {},
   "outputs": [],
   "source": []
  },
  {
   "cell_type": "code",
   "execution_count": null,
   "metadata": {},
   "outputs": [],
   "source": [
    "session = sagemaker.Session()\n",
    "print(sagemaker.get_execution_role())\n",
    "\n",
    "job_name = 'deepar-bike'\n",
    "bucket = 'sagemaker-curso-bucket'\n",
    "\n",
    "subpasta_modelo = 'modelos/bike/deepar'\n",
    "subpasta_dataset = 'datasets/bike'\n",
    "\n",
    "\n",
    "role = \"AmazonSageMaker-ExecutionRole-20240702T173175\"\n",
    "\n",
    "s3_train_data = 's3://{}/{}/train/{}'.format(bucket, subpasta_dataset, 'train.json')\n",
    "s3_test_data = 's3://{}/{}/test/{}'.format(bucket, subpasta_dataset, 'test.json')\n",
    "output_location = 's3://{}/{}/output'.format(bucket, subpasta_modelo)\n",
    "print('Localização da base de dados de treinamento: ', s3_train_data)\n",
    "print('Localização da base de dados de test: ', s3_test_data)\n",
    "print('Modelo final será salvo em: ', output_location)"
   ]
  },
  {
   "cell_type": "code",
   "execution_count": null,
   "metadata": {},
   "outputs": [],
   "source": [
    "def escreve_s3(arquivo, bucket, nome):\n",
    "    with open(arquivo, 'rb') as f:\n",
    "        return boto3.Session().resource('s3').Bucket(bucket).Object(nome).upload_fileobj(f)"
   ]
  },
  {
   "cell_type": "code",
   "execution_count": null,
   "metadata": {},
   "outputs": [],
   "source": [
    "escreve_s3('train.json', bucket, os.path.join(subpasta_dataset, 'train', 'train.json'))\n",
    "escreve_s3('test.json', bucket, os.path.join(subpasta_dataset, 'test', 'test.json'))"
   ]
  },
  {
   "cell_type": "markdown",
   "metadata": {},
   "source": [
    "# Treinamento do DeepAR"
   ]
  },
  {
   "cell_type": "code",
   "execution_count": null,
   "metadata": {},
   "outputs": [],
   "source": [
    "# https://docs.aws.amazon.com/sagemaker/latest/dg/ecr-sa-east-1.html\n",
    "container = sagemaker.image_uris.retrieve(framework = 'forecasting-deepar', region = session.boto_region_name)"
   ]
  },
  {
   "cell_type": "code",
   "execution_count": null,
   "metadata": {},
   "outputs": [],
   "source": [
    "# https://sagemaker.readthedocs.io/en/stable/api/training/estimators.html\n",
    "# https://github.com/aws-samples/amazon-sagemaker-managed-spot-training/blob/main/xgboost_built_in_managed_spot_training_checkpointing/xgboost_built_in_managed_spot_training_checkpointing.ipynb\n",
    "deepar = sagemaker.estimator.Estimator(image_uri = container,\n",
    "                                       role = role,\n",
    "                                       instance_count = 1,\n",
    "                                       instance_type = 'ml.m5.large',\n",
    "                                       output_path = output_location,\n",
    "                                       sagemaker_session = session,\n",
    "                                       base_job_name = job_name,\n",
    "                                       use_spot_instances = True,\n",
    "                                       max_run = 3600,\n",
    "                                       max_wait = 3600)"
   ]
  },
  {
   "cell_type": "code",
   "execution_count": null,
   "metadata": {},
   "outputs": [],
   "source": [
    "# https://docs.aws.amazon.com/sagemaker/latest/dg/deepar_hyperparameters.html\n",
    "freq = 'D'\n",
    "prediction_length = 30\n",
    "context_length = 30\n",
    "\n",
    "hyperparametros = {\n",
    "    'time_freq': freq, # Frequencia dos Dados\n",
    "    'epochs': \"20\", # Treinar o modelo por 20 epocas\n",
    "    'context_length': str(context_length), \n",
    "    'prediction_length': str(prediction_length)\n",
    "}\n",
    "\n",
    "deepar.set_hyperparameters(**hyperparametros)"
   ]
  },
  {
   "cell_type": "code",
   "execution_count": null,
   "metadata": {},
   "outputs": [],
   "source": [
    "data_channels = {'train': s3_train_data, 'test': s3_test_data}\n",
    "data_channels"
   ]
  },
  {
   "cell_type": "code",
   "execution_count": null,
   "metadata": {},
   "outputs": [],
   "source": [
    "deepar.fit(inputs = data_channels)"
   ]
  },
  {
   "cell_type": "markdown",
   "metadata": {},
   "source": [
    "# Deploy e previsões"
   ]
  },
  {
   "cell_type": "markdown",
   "metadata": {},
   "source": [
    "Deploy:"
   ]
  },
  {
   "cell_type": "code",
   "execution_count": null,
   "metadata": {},
   "outputs": [],
   "source": [
    "job_name = deepar.latest_training_job.name\n",
    "print('Job name: ', job_name)\n",
    "\n",
    "endpoint = session.endpoint_from_job(job_name = job_name,\n",
    "                                     initial_instance_count = 1,\n",
    "                                     instance_type = \"ml.m5.large\",\n",
    "                                     image_uri = container,\n",
    "                                     role = role)\n",
    "\n",
    "print('Endpoint: ', endpoint)"
   ]
  },
  {
   "cell_type": "markdown",
   "metadata": {},
   "source": [
    "## Configurações do DeepAR:"
   ]
  },
  {
   "cell_type": "markdown",
   "metadata": {},
   "source": [
    "Código fornecido pela documentação AWS"
   ]
  },
  {
   "cell_type": "code",
   "execution_count": null,
   "metadata": {},
   "outputs": [],
   "source": [
    "class DeepARPredictor(sagemaker.predictor.Predictor):\n",
    "\n",
    "    def set_prediction_parameters(self, freq, prediction_length):\n",
    "        \"\"\"Set the time frequency and prediction length parameters. \n",
    "          This method **must** be called before being able to use `predict`.\n",
    "        \n",
    "        Parameters:\n",
    "        freq -- string indicating the time frequency\n",
    "        prediction_length -- integer, number of predicted time points\n",
    "        \n",
    "        Return value: none.\n",
    "        \"\"\"\n",
    "        self.freq = freq\n",
    "        self.prediction_length = prediction_length\n",
    "        \n",
    "    def predict(self, ts, cat=None, dynamic_feat=None, \n",
    "                encoding=\"utf-8\", num_samples=100, quantiles=[\"0.1\", \"0.5\", \"0.9\"]):\n",
    "        \"\"\"Requests the prediction of for the time series listed in `ts`, \n",
    "           each with the (optional) corresponding category listed in `cat`.\n",
    "        \n",
    "        Parameters:\n",
    "        ts -- list of `pandas.Series` objects, the time series to predict\n",
    "        cat -- list of integers (default: None)\n",
    "        encoding -- string, encoding to use for the request (default: \"utf-8\")\n",
    "        num_samples -- integer, number of samples to compute at prediction time (default: 100)\n",
    "        quantiles -- list of strings specifying the quantiles to compute (default: [\"0.1\", \"0.5\", \"0.9\"])\n",
    "        \n",
    "        Return value: list of `pandas.DataFrame` objects, each containing the predictions\n",
    "        \"\"\"\n",
    "        prediction_times = [x.index[-1] + datetime.timedelta(hours=1) for x in ts] \n",
    "        \n",
    "        req = self.__encode_request(ts, cat, dynamic_feat, encoding, num_samples, quantiles)\n",
    "        res = super(DeepARPredictor, self).predict(req)\n",
    "        return self.__decode_response(res, prediction_times, encoding)\n",
    "    \n",
    "    def __encode_request(self, ts, cat, dynamic_feat, encoding, num_samples, quantiles):\n",
    "        \n",
    "        instances = [series_to_obj(ts[k]) for k in range(len(ts))]\n",
    "        \n",
    "        configuration = {\"num_samples\": num_samples, \"output_types\": [\"quantiles\"], \"quantiles\": quantiles}\n",
    "        http_request_data = {\"instances\": instances, \"configuration\": configuration}\n",
    "        return json.dumps(http_request_data).encode(encoding)\n",
    "    \n",
    "    def __decode_response(self, response, prediction_times, encoding):\n",
    "        response_data = json.loads(response.decode(encoding))\n",
    "        list_of_df = []\n",
    "        for k in range(len(prediction_times)):\n",
    "            prediction_index = pd.date_range(start=prediction_times[k], freq=self.freq, periods=self.prediction_length)\n",
    "            list_of_df.append(pd.DataFrame(data=response_data['predictions'][k]['quantiles'], index=prediction_index))\n",
    "        return list_of_df"
   ]
  },
  {
   "cell_type": "code",
   "execution_count": null,
   "metadata": {},
   "outputs": [],
   "source": [
    "predictor = DeepARPredictor(endpoint_name = 'deepar-bike-2022-05-19-19-15-14-057',\n",
    "                            sagemaker_session = session)\n",
    "predictor.set_prediction_parameters(freq, prediction_length)\n",
    "predictor.serializer.content_type = \"application/json\""
   ]
  },
  {
   "cell_type": "markdown",
   "metadata": {},
   "source": [
    "Iniciando previsões:"
   ]
  },
  {
   "cell_type": "code",
   "execution_count": null,
   "metadata": {},
   "outputs": [],
   "source": [
    "previsoes = predictor.predict(serie_temporal_treinamento)"
   ]
  },
  {
   "cell_type": "code",
   "execution_count": null,
   "metadata": {},
   "outputs": [],
   "source": [
    "previsoes"
   ]
  },
  {
   "cell_type": "markdown",
   "metadata": {},
   "source": [
    "0.5 - são as previsões (mediana)"
   ]
  },
  {
   "cell_type": "code",
   "execution_count": null,
   "metadata": {
    "vscode": {
     "languageId": "bat"
    }
   },
   "outputs": [],
   "source": [
    "[                             0.1          0.5          0.9\n",
    " 2012-11-19 01:00:00    81.751160  1021.147034  1941.947632\n",
    " 2012-11-20 01:00:00  -477.450104  -126.183731   200.116821\n",
    " 2012-11-21 01:00:00  -192.595276   -62.932251   102.896500\n",
    " 2012-11-22 01:00:00   -83.179741   -10.409641   100.315605\n",
    " 2012-11-23 01:00:00  -117.356873   -38.689064    32.051506\n",
    " 2012-11-24 01:00:00  -120.325974   -45.842602    30.433727\n",
    " 2012-11-25 01:00:00   -71.074921     8.277226   105.337250\n",
    " 2012-11-26 01:00:00  -110.271332   -50.417408    40.498543\n",
    " 2012-11-27 01:00:00  -226.430984   -61.401958    66.499580\n",
    " 2012-11-28 01:00:00  -182.769867   -40.222404   144.569168\n",
    " 2012-11-29 01:00:00   -82.768921   285.667725   774.222046\n",
    " 2012-11-30 01:00:00  1024.545654  2135.741211  3839.138916\n",
    " 2012-12-01 01:00:00  2883.889648  4239.021484  5993.821777\n",
    " 2012-12-02 01:00:00  2838.771240  5567.348633  7744.334961\n",
    " 2012-12-03 01:00:00  3737.095947  5737.732910  7799.645508\n",
    " 2012-12-04 01:00:00  4021.275391  5699.877930  6996.214355\n",
    " 2012-12-05 01:00:00  4028.331299  5529.660156  6724.604004\n",
    " 2012-12-06 01:00:00  4658.131836  5640.213379  7340.486816\n",
    " 2012-12-07 01:00:00  4400.713379  5621.302246  7204.938477\n",
    " 2012-12-08 01:00:00  4487.339844  5593.937012  6657.020996\n",
    " 2012-12-09 01:00:00  4685.892578  5710.781738  6917.207520\n",
    " 2012-12-10 01:00:00  4780.791016  5814.346191  6873.307129\n",
    " 2012-12-11 01:00:00  4682.760254  5631.159180  7008.041992\n",
    " 2012-12-12 01:00:00  4747.140625  5810.919922  7114.795898\n",
    " 2012-12-13 01:00:00  4787.459961  5948.392090  7101.114746\n",
    " 2012-12-14 01:00:00  4505.422363  5705.535645  6812.600586\n",
    " 2012-12-15 01:00:00  4486.506836  5719.681641  7035.645996\n",
    " 2012-12-16 01:00:00  4723.630859  5766.337402  7069.052246\n",
    " 2012-12-17 01:00:00  3612.868164  5775.592285  7542.102539\n",
    " 2012-12-18 01:00:00  2061.799805  4414.260254  6524.545898]"
   ]
  },
  {
   "cell_type": "code",
   "execution_count": null,
   "metadata": {},
   "outputs": [],
   "source": [
    "for k in range(len(previsoes)):\n",
    "    plt.figure(figsize=(12,6))\n",
    "    previsoes[k]['0.5'].plot(label = 'Mediana', color = 'red')\n",
    "    #serie_temporal_teste[k].plot(label = 'Alvo')\n",
    "    serie_temporal_teste[k][-prediction_length - context_length:].plot(label = 'Alvo')\n",
    "    p10 = previsoes[k]['0.1']\n",
    "    p90 = previsoes[k]['0.9']\n",
    "    plt.fill_between(p10.index, p10, p90, color = 'y', alpha = 0.5, label = 'Intervalo de confiança')\n",
    "    plt.legend()\n",
    "    plt.show()"
   ]
  },
  {
   "attachments": {
    "image.png": {
     "image/png": "[encoded data removed]"
    }
   },
   "cell_type": "markdown",
   "metadata": {},
   "source": [
    "![image.png](attachment:image.png)"
   ]
  },
  {
   "cell_type": "markdown",
   "metadata": {},
   "source": [
    "Quanto menor largo o intervalo de confiança, mais precisas serão as previsoes.\n",
    "\n",
    "Linha de alvo e mediana proximas indicam boa acertividade do modelo.\n",
    "\n",
    "Treinamento por mais epocas, gera um intervalo de confiança melhor."
   ]
  }
 ],
 "metadata": {
  "kernelspec": {
   "display_name": "ml-test",
   "language": "python",
   "name": "python3"
  },
  "language_info": {
   "codemirror_mode": {
    "name": "ipython",
    "version": 3
   },
   "file_extension": ".py",
   "mimetype": "text/x-python",
   "name": "python",
   "nbconvert_exporter": "python",
   "pygments_lexer": "ipython3",
   "version": "3.10.12"
  }
 },
 "nbformat": 4,
 "nbformat_minor": 2
}
