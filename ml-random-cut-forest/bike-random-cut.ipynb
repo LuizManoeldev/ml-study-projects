{
 "cells": [
  {
   "cell_type": "markdown",
   "metadata": {},
   "source": [
    "# Tratamento dos dados"
   ]
  },
  {
   "cell_type": "code",
   "execution_count": null,
   "metadata": {},
   "outputs": [],
   "source": [
    "import pandas as pd\n",
    "import numpy as np\n",
    "import matplotlib.pyplot as plt\n",
    "import datetime"
   ]
  },
  {
   "cell_type": "code",
   "execution_count": null,
   "metadata": {},
   "outputs": [],
   "source": [
    "# https://www.kaggle.com/competitions/bike-sharing-demand/data\n",
    "base = pd.read_csv('./csv-files/train.csv')\n",
    "base"
   ]
  },
  {
   "cell_type": "code",
   "execution_count": null,
   "metadata": {},
   "outputs": [],
   "source": [
    "base = pd.read_csv('./csv-files/train.csv', parse_dates=['datetime'], index_col = 0)\n",
    "base"
   ]
  },
  {
   "cell_type": "code",
   "execution_count": null,
   "metadata": {},
   "outputs": [],
   "source": [
    "base.drop(columns = ['season', 'holiday','workingday','weather','temp','atemp', 'humidity','windspeed','casual', 'registered'], axis = 1, inplace = True)\n",
    "base"
   ]
  },
  {
   "cell_type": "code",
   "execution_count": null,
   "metadata": {},
   "outputs": [],
   "source": [
    "base = base.groupby(pd.Grouper(freq = 'D')).sum()\n",
    "base"
   ]
  },
  {
   "cell_type": "code",
   "execution_count": null,
   "metadata": {},
   "outputs": [],
   "source": [
    "plt.plot(base['count'])\n",
    "plt.ylabel('Quantidade')\n",
    "plt.title('Aluguel de bicicletas');"
   ]
  },
  {
   "cell_type": "markdown",
   "metadata": {},
   "source": [
    "# Configurações do SageMaker"
   ]
  },
  {
   "cell_type": "code",
   "execution_count": null,
   "metadata": {},
   "outputs": [],
   "source": [
    "import boto3\n",
    "import sagemaker\n",
    "from sagemaker import RandomCutForest"
   ]
  },
  {
   "cell_type": "code",
   "execution_count": null,
   "metadata": {},
   "outputs": [],
   "source": [
    "session = sagemaker.Session()\n",
    "bucket = 'sagemaker-curso-bucket'\n",
    "subpasta_dataset = 'datasets/bike/random-cut'\n",
    "subpasta_modelo = 'modelos/bike/random-cut'\n",
    "key = 'bike-random-cut'\n",
    "s3_data = 's3://{}/{}/{}'.format(bucket, subpasta_dataset, key)\n",
    "output_location = 's3://{}/{}'.format(bucket, subpasta_modelo)\n",
    "role = \"AmazonSageMaker-ExecutionRole-20240702T173175\"\n",
    "boto3.Session().client('s3').head_bucket(Bucket = bucket)\n",
    "print('Localização da base de dados: ', s3_data)\n",
    "print('Localização do modelo: ', output_location)"
   ]
  },
  {
   "cell_type": "markdown",
   "metadata": {},
   "source": [
    "# Treinamento do Random Cut"
   ]
  },
  {
   "cell_type": "code",
   "execution_count": null,
   "metadata": {},
   "outputs": [],
   "source": [
    "base['count'].to_numpy().reshape(-1,1).shape"
   ]
  },
  {
   "cell_type": "code",
   "execution_count": null,
   "metadata": {},
   "outputs": [],
   "source": [
    "# https://docs.aws.amazon.com/sagemaker/latest/dg/randomcutforest.html\n",
    "# https://docs.aws.amazon.com/sagemaker/latest/dg/rcf_hyperparameters.html\n",
    "# https://sagemaker.readthedocs.io/en/stable/algorithms/sagemaker.amazon.amazon_estimator.html\n",
    "random_cut = RandomCutForest(role = role,\n",
    "                             instance_count = 1,\n",
    "                             instance_type = 'ml.m4.xlarge',\n",
    "                             data_location = s3_data,\n",
    "                             output_path = output_location,\n",
    "                             use_spot_instances = True,\n",
    "                             max_run = 3600,\n",
    "                             max_wait = 3600)\n",
    "random_cut.fit(random_cut.record_set(base['count'].to_numpy().reshape(-1,1)))"
   ]
  },
  {
   "cell_type": "markdown",
   "metadata": {},
   "source": [
    "# Deploy e inferências"
   ]
  },
  {
   "cell_type": "code",
   "execution_count": null,
   "metadata": {},
   "outputs": [],
   "source": [
    "random_cut_bikes = random_cut.deploy(initial_instance_count = 1, instance_type = 'ml.m4.xlarge')"
   ]
  },
  {
   "cell_type": "code",
   "execution_count": null,
   "metadata": {},
   "outputs": [],
   "source": [
    "from sagemaker.serializers import CSVSerializer\n",
    "from sagemaker.deserializers import JSONDeserializer\n",
    "random_cut_bikes.serializer = CSVSerializer()\n",
    "random_cut_bikes.deserializer = JSONDeserializer()"
   ]
  },
  {
   "cell_type": "code",
   "execution_count": null,
   "metadata": {},
   "outputs": [],
   "source": [
    "base_numpy = base['count'].to_numpy().reshape(-1,1)\n",
    "base_numpy[0:5], base_numpy.shape"
   ]
  },
  {
   "cell_type": "code",
   "execution_count": null,
   "metadata": {},
   "outputs": [],
   "source": [
    "previsoes = random_cut_bikes.predict(base_numpy)\n",
    "previsoes"
   ]
  },
  {
   "cell_type": "code",
   "execution_count": null,
   "metadata": {},
   "outputs": [],
   "source": [
    "previsoes = [p['score'] for p in previsoes['scores']]"
   ]
  },
  {
   "cell_type": "code",
   "execution_count": null,
   "metadata": {},
   "outputs": [],
   "source": [
    "previsoes[0:5]"
   ]
  },
  {
   "cell_type": "code",
   "execution_count": null,
   "metadata": {},
   "outputs": [],
   "source": [
    "# Gerando nova bose com os scores retornados pelo algoritmo\n",
    "base['score'] = pd.Series(previsoes, index = base.index)\n",
    "base"
   ]
  },
  {
   "cell_type": "code",
   "execution_count": null,
   "metadata": {},
   "outputs": [],
   "source": [
    "base.describe()"
   ]
  },
  {
   "cell_type": "code",
   "execution_count": null,
   "metadata": {},
   "outputs": [],
   "source": [
    "min(previsoes), max(previsoes), 1.4 * max(previsoes)"
   ]
  },
  {
   "cell_type": "code",
   "execution_count": null,
   "metadata": {},
   "outputs": [],
   "source": [
    "fig, ax1 = plt.subplots(figsize=(20,10))\n",
    "# https://matplotlib.org/stable/api/_as_gen/matplotlib.axes.Axes.twinx.html\n",
    "ax2 = ax1.twinx()\n",
    "\n",
    "ax1.plot(base['count'], color = 'b')\n",
    "ax2.plot(base['score'], color = 'r')\n",
    "\n",
    "ax1.set_ylabel('Quantidade', color = 'b')\n",
    "ax2.set_ylabel('Score', color = 'r')\n",
    "\n",
    "ax1.tick_params('y', colors = 'b')\n",
    "ax2.tick_params('y', colors = 'r')\n",
    "\n",
    "ax2.set_ylim(min(previsoes), 1.4 * max(previsoes));"
   ]
  },
  {
   "cell_type": "code",
   "execution_count": null,
   "metadata": {},
   "outputs": [],
   "source": [
    "media_score = base['score'].mean()\n",
    "media_score"
   ]
  },
  {
   "cell_type": "code",
   "execution_count": null,
   "metadata": {},
   "outputs": [],
   "source": [
    "desvio_padrao_score = base['score'].std()\n",
    "desvio_padrao_score"
   ]
  },
  {
   "cell_type": "code",
   "execution_count": null,
   "metadata": {},
   "outputs": [],
   "source": [
    "corte_score = media_score + 3 * desvio_padrao_score\n",
    "corte_score"
   ]
  },
  {
   "cell_type": "code",
   "execution_count": null,
   "metadata": {},
   "outputs": [],
   "source": [
    "outliers = base[base['score'] > corte_score]\n",
    "outliers"
   ]
  },
  {
   "cell_type": "code",
   "execution_count": null,
   "metadata": {},
   "outputs": [],
   "source": [
    "# https://matplotlib.org/stable/api/_as_gen/matplotlib.pyplot.plot.html\n",
    "ax2.plot(outliers.index, outliers['score'], 'ko')\n",
    "fig"
   ]
  },
  {
   "cell_type": "code",
   "execution_count": null,
   "metadata": {},
   "outputs": [],
   "source": [
    "random_cut_bikes.delete_endpoint()"
   ]
  },
  {
   "cell_type": "code",
   "execution_count": null,
   "metadata": {},
   "outputs": [],
   "source": []
  }
 ],
 "metadata": {
  "instance_type": "ml.t3.medium",
  "kernelspec": {
   "display_name": "ml-test",
   "language": "python",
   "name": "python3"
  },
  "language_info": {
   "codemirror_mode": {
    "name": "ipython",
    "version": 3
   },
   "file_extension": ".py",
   "mimetype": "text/x-python",
   "name": "python",
   "nbconvert_exporter": "python",
   "pygments_lexer": "ipython3",
   "version": "3.10.12"
  }
 },
 "nbformat": 4,
 "nbformat_minor": 4
}
